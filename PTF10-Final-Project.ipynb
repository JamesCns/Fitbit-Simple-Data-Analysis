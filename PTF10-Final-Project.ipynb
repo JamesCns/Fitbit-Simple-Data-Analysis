{
 "cells": [
  {
   "cell_type": "markdown",
   "id": "b68ee82f",
   "metadata": {},
   "source": [
    "### Import Libraries"
   ]
  },
  {
   "cell_type": "code",
   "execution_count": 18,
   "id": "a784ecd5",
   "metadata": {},
   "outputs": [],
   "source": [
    "import pandas as pd \n",
    "import numpy as np \n",
    "import matplotlib.pyplot as plt\n",
    "import seaborn as sns "
   ]
  },
  {
   "cell_type": "code",
   "execution_count": 48,
   "id": "5e41a8a7",
   "metadata": {},
   "outputs": [],
   "source": [
    "# d stands for daily\n",
    "d_activity = pd.read_csv('Fitbit Data/dailyActivity_merged.csv')\n",
    "d_calories = pd.read_csv('Fitbit Data/dailyCalories_merged.csv')\n",
    "d_steps = pd.read_csv('Fitbit Data/dailySteps_merged.csv')\n",
    "# h stands for hourly \n",
    "h_calories = pd.read_csv('Fitbit Data/hourlyCalories_merged.csv')\n",
    "h_steps = pd.read_csv('Fitbit Data/hourlySteps_merged.csv')\n",
    "\n",
    "# m stands for Minutes\n",
    "m_mets = pd.read_csv('Fitbit Data/minuteMETsNarrow_merged.csv')\n",
    "m_steps = pd.read_csv('Fitbit Data/minuteStepsNarrow_merged.csv')\n",
    "m_calories = pd.read_csv('Fitbit Data/minuteCaloriesNarrow_merged.csv')"
   ]
  },
  {
   "cell_type": "code",
   "execution_count": 20,
   "id": "4e65710d",
   "metadata": {
    "scrolled": true
   },
   "outputs": [
    {
     "data": {
      "text/html": [
       "<div>\n",
       "<style scoped>\n",
       "    .dataframe tbody tr th:only-of-type {\n",
       "        vertical-align: middle;\n",
       "    }\n",
       "\n",
       "    .dataframe tbody tr th {\n",
       "        vertical-align: top;\n",
       "    }\n",
       "\n",
       "    .dataframe thead th {\n",
       "        text-align: right;\n",
       "    }\n",
       "</style>\n",
       "<table border=\"1\" class=\"dataframe\">\n",
       "  <thead>\n",
       "    <tr style=\"text-align: right;\">\n",
       "      <th></th>\n",
       "      <th>Id</th>\n",
       "      <th>TotalSteps</th>\n",
       "      <th>TotalDistance</th>\n",
       "      <th>TrackerDistance</th>\n",
       "      <th>LoggedActivitiesDistance</th>\n",
       "      <th>VeryActiveDistance</th>\n",
       "      <th>ModeratelyActiveDistance</th>\n",
       "      <th>LightActiveDistance</th>\n",
       "      <th>SedentaryActiveDistance</th>\n",
       "      <th>VeryActiveMinutes</th>\n",
       "      <th>FairlyActiveMinutes</th>\n",
       "      <th>LightlyActiveMinutes</th>\n",
       "      <th>SedentaryMinutes</th>\n",
       "      <th>Calories</th>\n",
       "    </tr>\n",
       "  </thead>\n",
       "  <tbody>\n",
       "    <tr>\n",
       "      <th>count</th>\n",
       "      <td>9.400000e+02</td>\n",
       "      <td>940.000000</td>\n",
       "      <td>940.000000</td>\n",
       "      <td>940.000000</td>\n",
       "      <td>940.000000</td>\n",
       "      <td>940.000000</td>\n",
       "      <td>940.000000</td>\n",
       "      <td>940.000000</td>\n",
       "      <td>940.000000</td>\n",
       "      <td>940.000000</td>\n",
       "      <td>940.000000</td>\n",
       "      <td>940.000000</td>\n",
       "      <td>940.000000</td>\n",
       "      <td>940.000000</td>\n",
       "    </tr>\n",
       "    <tr>\n",
       "      <th>mean</th>\n",
       "      <td>4.855407e+09</td>\n",
       "      <td>7637.910638</td>\n",
       "      <td>5.489702</td>\n",
       "      <td>5.475351</td>\n",
       "      <td>0.108171</td>\n",
       "      <td>1.502681</td>\n",
       "      <td>0.567543</td>\n",
       "      <td>3.340819</td>\n",
       "      <td>0.001606</td>\n",
       "      <td>21.164894</td>\n",
       "      <td>13.564894</td>\n",
       "      <td>192.812766</td>\n",
       "      <td>991.210638</td>\n",
       "      <td>2303.609574</td>\n",
       "    </tr>\n",
       "    <tr>\n",
       "      <th>std</th>\n",
       "      <td>2.424805e+09</td>\n",
       "      <td>5087.150742</td>\n",
       "      <td>3.924606</td>\n",
       "      <td>3.907276</td>\n",
       "      <td>0.619897</td>\n",
       "      <td>2.658941</td>\n",
       "      <td>0.883580</td>\n",
       "      <td>2.040655</td>\n",
       "      <td>0.007346</td>\n",
       "      <td>32.844803</td>\n",
       "      <td>19.987404</td>\n",
       "      <td>109.174700</td>\n",
       "      <td>301.267437</td>\n",
       "      <td>718.166862</td>\n",
       "    </tr>\n",
       "    <tr>\n",
       "      <th>min</th>\n",
       "      <td>1.503960e+09</td>\n",
       "      <td>0.000000</td>\n",
       "      <td>0.000000</td>\n",
       "      <td>0.000000</td>\n",
       "      <td>0.000000</td>\n",
       "      <td>0.000000</td>\n",
       "      <td>0.000000</td>\n",
       "      <td>0.000000</td>\n",
       "      <td>0.000000</td>\n",
       "      <td>0.000000</td>\n",
       "      <td>0.000000</td>\n",
       "      <td>0.000000</td>\n",
       "      <td>0.000000</td>\n",
       "      <td>0.000000</td>\n",
       "    </tr>\n",
       "    <tr>\n",
       "      <th>25%</th>\n",
       "      <td>2.320127e+09</td>\n",
       "      <td>3789.750000</td>\n",
       "      <td>2.620000</td>\n",
       "      <td>2.620000</td>\n",
       "      <td>0.000000</td>\n",
       "      <td>0.000000</td>\n",
       "      <td>0.000000</td>\n",
       "      <td>1.945000</td>\n",
       "      <td>0.000000</td>\n",
       "      <td>0.000000</td>\n",
       "      <td>0.000000</td>\n",
       "      <td>127.000000</td>\n",
       "      <td>729.750000</td>\n",
       "      <td>1828.500000</td>\n",
       "    </tr>\n",
       "    <tr>\n",
       "      <th>50%</th>\n",
       "      <td>4.445115e+09</td>\n",
       "      <td>7405.500000</td>\n",
       "      <td>5.245000</td>\n",
       "      <td>5.245000</td>\n",
       "      <td>0.000000</td>\n",
       "      <td>0.210000</td>\n",
       "      <td>0.240000</td>\n",
       "      <td>3.365000</td>\n",
       "      <td>0.000000</td>\n",
       "      <td>4.000000</td>\n",
       "      <td>6.000000</td>\n",
       "      <td>199.000000</td>\n",
       "      <td>1057.500000</td>\n",
       "      <td>2134.000000</td>\n",
       "    </tr>\n",
       "    <tr>\n",
       "      <th>75%</th>\n",
       "      <td>6.962181e+09</td>\n",
       "      <td>10727.000000</td>\n",
       "      <td>7.712500</td>\n",
       "      <td>7.710000</td>\n",
       "      <td>0.000000</td>\n",
       "      <td>2.052500</td>\n",
       "      <td>0.800000</td>\n",
       "      <td>4.782500</td>\n",
       "      <td>0.000000</td>\n",
       "      <td>32.000000</td>\n",
       "      <td>19.000000</td>\n",
       "      <td>264.000000</td>\n",
       "      <td>1229.500000</td>\n",
       "      <td>2793.250000</td>\n",
       "    </tr>\n",
       "    <tr>\n",
       "      <th>max</th>\n",
       "      <td>8.877689e+09</td>\n",
       "      <td>36019.000000</td>\n",
       "      <td>28.030001</td>\n",
       "      <td>28.030001</td>\n",
       "      <td>4.942142</td>\n",
       "      <td>21.920000</td>\n",
       "      <td>6.480000</td>\n",
       "      <td>10.710000</td>\n",
       "      <td>0.110000</td>\n",
       "      <td>210.000000</td>\n",
       "      <td>143.000000</td>\n",
       "      <td>518.000000</td>\n",
       "      <td>1440.000000</td>\n",
       "      <td>4900.000000</td>\n",
       "    </tr>\n",
       "  </tbody>\n",
       "</table>\n",
       "</div>"
      ],
      "text/plain": [
       "                 Id    TotalSteps  TotalDistance  TrackerDistance  \\\n",
       "count  9.400000e+02    940.000000     940.000000       940.000000   \n",
       "mean   4.855407e+09   7637.910638       5.489702         5.475351   \n",
       "std    2.424805e+09   5087.150742       3.924606         3.907276   \n",
       "min    1.503960e+09      0.000000       0.000000         0.000000   \n",
       "25%    2.320127e+09   3789.750000       2.620000         2.620000   \n",
       "50%    4.445115e+09   7405.500000       5.245000         5.245000   \n",
       "75%    6.962181e+09  10727.000000       7.712500         7.710000   \n",
       "max    8.877689e+09  36019.000000      28.030001        28.030001   \n",
       "\n",
       "       LoggedActivitiesDistance  VeryActiveDistance  ModeratelyActiveDistance  \\\n",
       "count                940.000000          940.000000                940.000000   \n",
       "mean                   0.108171            1.502681                  0.567543   \n",
       "std                    0.619897            2.658941                  0.883580   \n",
       "min                    0.000000            0.000000                  0.000000   \n",
       "25%                    0.000000            0.000000                  0.000000   \n",
       "50%                    0.000000            0.210000                  0.240000   \n",
       "75%                    0.000000            2.052500                  0.800000   \n",
       "max                    4.942142           21.920000                  6.480000   \n",
       "\n",
       "       LightActiveDistance  SedentaryActiveDistance  VeryActiveMinutes  \\\n",
       "count           940.000000               940.000000         940.000000   \n",
       "mean              3.340819                 0.001606          21.164894   \n",
       "std               2.040655                 0.007346          32.844803   \n",
       "min               0.000000                 0.000000           0.000000   \n",
       "25%               1.945000                 0.000000           0.000000   \n",
       "50%               3.365000                 0.000000           4.000000   \n",
       "75%               4.782500                 0.000000          32.000000   \n",
       "max              10.710000                 0.110000         210.000000   \n",
       "\n",
       "       FairlyActiveMinutes  LightlyActiveMinutes  SedentaryMinutes  \\\n",
       "count           940.000000            940.000000        940.000000   \n",
       "mean             13.564894            192.812766        991.210638   \n",
       "std              19.987404            109.174700        301.267437   \n",
       "min               0.000000              0.000000          0.000000   \n",
       "25%               0.000000            127.000000        729.750000   \n",
       "50%               6.000000            199.000000       1057.500000   \n",
       "75%              19.000000            264.000000       1229.500000   \n",
       "max             143.000000            518.000000       1440.000000   \n",
       "\n",
       "          Calories  \n",
       "count   940.000000  \n",
       "mean   2303.609574  \n",
       "std     718.166862  \n",
       "min       0.000000  \n",
       "25%    1828.500000  \n",
       "50%    2134.000000  \n",
       "75%    2793.250000  \n",
       "max    4900.000000  "
      ]
     },
     "execution_count": 20,
     "metadata": {},
     "output_type": "execute_result"
    }
   ],
   "source": [
    "d_activity.describe()"
   ]
  },
  {
   "cell_type": "code",
   "execution_count": 35,
   "id": "0a99d1d2",
   "metadata": {
    "scrolled": true
   },
   "outputs": [
    {
     "data": {
      "text/html": [
       "<div>\n",
       "<style scoped>\n",
       "    .dataframe tbody tr th:only-of-type {\n",
       "        vertical-align: middle;\n",
       "    }\n",
       "\n",
       "    .dataframe tbody tr th {\n",
       "        vertical-align: top;\n",
       "    }\n",
       "\n",
       "    .dataframe thead th {\n",
       "        text-align: right;\n",
       "    }\n",
       "</style>\n",
       "<table border=\"1\" class=\"dataframe\">\n",
       "  <thead>\n",
       "    <tr style=\"text-align: right;\">\n",
       "      <th></th>\n",
       "      <th>Id</th>\n",
       "      <th>Calories</th>\n",
       "    </tr>\n",
       "  </thead>\n",
       "  <tbody>\n",
       "    <tr>\n",
       "      <th>count</th>\n",
       "      <td>9.400000e+02</td>\n",
       "      <td>940.000000</td>\n",
       "    </tr>\n",
       "    <tr>\n",
       "      <th>mean</th>\n",
       "      <td>4.855407e+09</td>\n",
       "      <td>2303.609574</td>\n",
       "    </tr>\n",
       "    <tr>\n",
       "      <th>std</th>\n",
       "      <td>2.424805e+09</td>\n",
       "      <td>718.166862</td>\n",
       "    </tr>\n",
       "    <tr>\n",
       "      <th>min</th>\n",
       "      <td>1.503960e+09</td>\n",
       "      <td>0.000000</td>\n",
       "    </tr>\n",
       "    <tr>\n",
       "      <th>25%</th>\n",
       "      <td>2.320127e+09</td>\n",
       "      <td>1828.500000</td>\n",
       "    </tr>\n",
       "    <tr>\n",
       "      <th>50%</th>\n",
       "      <td>4.445115e+09</td>\n",
       "      <td>2134.000000</td>\n",
       "    </tr>\n",
       "    <tr>\n",
       "      <th>75%</th>\n",
       "      <td>6.962181e+09</td>\n",
       "      <td>2793.250000</td>\n",
       "    </tr>\n",
       "    <tr>\n",
       "      <th>max</th>\n",
       "      <td>8.877689e+09</td>\n",
       "      <td>4900.000000</td>\n",
       "    </tr>\n",
       "  </tbody>\n",
       "</table>\n",
       "</div>"
      ],
      "text/plain": [
       "                 Id     Calories\n",
       "count  9.400000e+02   940.000000\n",
       "mean   4.855407e+09  2303.609574\n",
       "std    2.424805e+09   718.166862\n",
       "min    1.503960e+09     0.000000\n",
       "25%    2.320127e+09  1828.500000\n",
       "50%    4.445115e+09  2134.000000\n",
       "75%    6.962181e+09  2793.250000\n",
       "max    8.877689e+09  4900.000000"
      ]
     },
     "execution_count": 35,
     "metadata": {},
     "output_type": "execute_result"
    }
   ],
   "source": [
    "d_calories.describe()"
   ]
  },
  {
   "cell_type": "code",
   "execution_count": 36,
   "id": "3c6875b8",
   "metadata": {},
   "outputs": [
    {
     "name": "stdout",
     "output_type": "stream",
     "text": [
      "[[1.         0.98536884]\n",
      " [0.98536884 1.        ]]\n"
     ]
    }
   ],
   "source": [
    "steps_distance_corr = np.corrcoef(d_activity['TotalSteps'], d_activity['TotalDistance'])\n",
    "print(steps_distance_correlation)"
   ]
  },
  {
   "cell_type": "code",
   "execution_count": 33,
   "id": "fd4ce272",
   "metadata": {},
   "outputs": [
    {
     "data": {
      "text/plain": [
       "<function matplotlib.pyplot.show(close=None, block=None)>"
      ]
     },
     "execution_count": 33,
     "metadata": {},
     "output_type": "execute_result"
    },
    {
     "data": {
      "image/png": "[encoded data removed]",
      "text/plain": [
       "<Figure size 432x288 with 1 Axes>"
      ]
     },
     "metadata": {
      "needs_background": "light"
     },
     "output_type": "display_data"
    }
   ],
   "source": [
    "x = d_activity['TotalSteps']\n",
    "y = d_activity['TotalDistance']\n",
    "plt.plot(x, y, 'o', color='green')\n",
    "plt.xlabel('Total Steps')\n",
    "plt.ylabel('Total Distance in km')\n",
    "\n",
    "# obtain slope (m) and intercept (b) of linera regression line \n",
    "m, b = np.polyfit(x, y, 1)\n",
    "\n",
    "# plot the linear regression line\n",
    "plt.plot(x, m*x+b, color='red')\n",
    "plt.show"
   ]
  },
  {
   "cell_type": "code",
   "execution_count": 28,
   "id": "f11e4706",
   "metadata": {},
   "outputs": [
    {
     "name": "stdout",
     "output_type": "stream",
     "text": [
      "[[1.         0.59156809]\n",
      " [0.59156809 1.        ]]\n",
      "[[1.         0.81496797]\n",
      " [0.81496797 1.        ]]\n"
     ]
    }
   ],
   "source": [
    "# correlation of daily activity column steps and calories\n",
    "steps_calories_corr = np.corrcoef(d_activity['TotalSteps'], d_activity['Calories'])\n",
    "print(steps_calories_correlation)\n",
    "\n",
    "# correlation of hourly steps and calories\n",
    "hourly_steps_calories_corr = np.corrcoef(h_steps['StepTotal'], h_calories['Calories'])\n",
    "print(hourly_steps_calories_correlation)\n"
   ]
  },
  {
   "cell_type": "code",
   "execution_count": 39,
   "id": "cf4e4249",
   "metadata": {
    "scrolled": true
   },
   "outputs": [
    {
     "data": {
      "text/plain": [
       "[<matplotlib.lines.Line2D at 0x1f6a9f2c340>]"
      ]
     },
     "execution_count": 39,
     "metadata": {},
     "output_type": "execute_result"
    },
    {
     "data": {
      "image/png": "[encoded data removed]",
      "text/plain": [
       "<Figure size 432x288 with 1 Axes>"
      ]
     },
     "metadata": {
      "needs_background": "light"
     },
     "output_type": "display_data"
    }
   ],
   "source": [
    "x = d_activity['TotalSteps']\n",
    "y = d_activity['Calories']\n",
    "plt.plot(x, y, 'o', color='green')\n",
    "plt.xlabel('Total Steps')\n",
    "plt.ylabel('Calories')\n",
    "m, b = np.polyfit(x, y, 1)\n",
    "plt.plot(x, m*x+b, color='red')"
   ]
  },
  {
   "cell_type": "code",
   "execution_count": 40,
   "id": "ed5d1bdf",
   "metadata": {},
   "outputs": [
    {
     "data": {
      "text/plain": [
       "[<matplotlib.lines.Line2D at 0x1f6a9f953d0>]"
      ]
     },
     "execution_count": 40,
     "metadata": {},
     "output_type": "execute_result"
    },
    {
     "data": {
      "image/png": "[encoded data removed]",
      "text/plain": [
       "<Figure size 432x288 with 1 Axes>"
      ]
     },
     "metadata": {
      "needs_background": "light"
     },
     "output_type": "display_data"
    }
   ],
   "source": [
    "x = h_steps['StepTotal']\n",
    "y = h_calories['Calories']\n",
    "plt.plot(x, y, 'o', color='green')\n",
    "plt.xlabel('Total Steps')\n",
    "plt.ylabel('Calories')\n",
    "m, b = np.polyfit(x, y, 1)\n",
    "plt.plot(x, m*x+b, color='red')"
   ]
  },
  {
   "cell_type": "code",
   "execution_count": 43,
   "id": "a8792430",
   "metadata": {},
   "outputs": [
    {
     "data": {
      "text/html": [
       "<div>\n",
       "<style scoped>\n",
       "    .dataframe tbody tr th:only-of-type {\n",
       "        vertical-align: middle;\n",
       "    }\n",
       "\n",
       "    .dataframe tbody tr th {\n",
       "        vertical-align: top;\n",
       "    }\n",
       "\n",
       "    .dataframe thead th {\n",
       "        text-align: right;\n",
       "    }\n",
       "</style>\n",
       "<table border=\"1\" class=\"dataframe\">\n",
       "  <thead>\n",
       "    <tr style=\"text-align: right;\">\n",
       "      <th></th>\n",
       "      <th>Id</th>\n",
       "      <th>ActivityMinute</th>\n",
       "      <th>METs</th>\n",
       "    </tr>\n",
       "  </thead>\n",
       "  <tbody>\n",
       "    <tr>\n",
       "      <th>0</th>\n",
       "      <td>1503960366</td>\n",
       "      <td>4/12/2016 12:00:00 AM</td>\n",
       "      <td>10</td>\n",
       "    </tr>\n",
       "    <tr>\n",
       "      <th>1</th>\n",
       "      <td>1503960366</td>\n",
       "      <td>4/12/2016 12:01:00 AM</td>\n",
       "      <td>10</td>\n",
       "    </tr>\n",
       "    <tr>\n",
       "      <th>2</th>\n",
       "      <td>1503960366</td>\n",
       "      <td>4/12/2016 12:02:00 AM</td>\n",
       "      <td>10</td>\n",
       "    </tr>\n",
       "    <tr>\n",
       "      <th>3</th>\n",
       "      <td>1503960366</td>\n",
       "      <td>4/12/2016 12:03:00 AM</td>\n",
       "      <td>10</td>\n",
       "    </tr>\n",
       "    <tr>\n",
       "      <th>4</th>\n",
       "      <td>1503960366</td>\n",
       "      <td>4/12/2016 12:04:00 AM</td>\n",
       "      <td>10</td>\n",
       "    </tr>\n",
       "    <tr>\n",
       "      <th>...</th>\n",
       "      <td>...</td>\n",
       "      <td>...</td>\n",
       "      <td>...</td>\n",
       "    </tr>\n",
       "    <tr>\n",
       "      <th>1325575</th>\n",
       "      <td>8877689391</td>\n",
       "      <td>5/12/2016 1:55:00 PM</td>\n",
       "      <td>11</td>\n",
       "    </tr>\n",
       "    <tr>\n",
       "      <th>1325576</th>\n",
       "      <td>8877689391</td>\n",
       "      <td>5/12/2016 1:56:00 PM</td>\n",
       "      <td>11</td>\n",
       "    </tr>\n",
       "    <tr>\n",
       "      <th>1325577</th>\n",
       "      <td>8877689391</td>\n",
       "      <td>5/12/2016 1:57:00 PM</td>\n",
       "      <td>11</td>\n",
       "    </tr>\n",
       "    <tr>\n",
       "      <th>1325578</th>\n",
       "      <td>8877689391</td>\n",
       "      <td>5/12/2016 1:58:00 PM</td>\n",
       "      <td>11</td>\n",
       "    </tr>\n",
       "    <tr>\n",
       "      <th>1325579</th>\n",
       "      <td>8877689391</td>\n",
       "      <td>5/12/2016 1:59:00 PM</td>\n",
       "      <td>11</td>\n",
       "    </tr>\n",
       "  </tbody>\n",
       "</table>\n",
       "<p>1325580 rows × 3 columns</p>\n",
       "</div>"
      ],
      "text/plain": [
       "                 Id         ActivityMinute  METs\n",
       "0        1503960366  4/12/2016 12:00:00 AM    10\n",
       "1        1503960366  4/12/2016 12:01:00 AM    10\n",
       "2        1503960366  4/12/2016 12:02:00 AM    10\n",
       "3        1503960366  4/12/2016 12:03:00 AM    10\n",
       "4        1503960366  4/12/2016 12:04:00 AM    10\n",
       "...             ...                    ...   ...\n",
       "1325575  8877689391   5/12/2016 1:55:00 PM    11\n",
       "1325576  8877689391   5/12/2016 1:56:00 PM    11\n",
       "1325577  8877689391   5/12/2016 1:57:00 PM    11\n",
       "1325578  8877689391   5/12/2016 1:58:00 PM    11\n",
       "1325579  8877689391   5/12/2016 1:59:00 PM    11\n",
       "\n",
       "[1325580 rows x 3 columns]"
      ]
     },
     "execution_count": 43,
     "metadata": {},
     "output_type": "execute_result"
    }
   ],
   "source": [
    "m_mets"
   ]
  },
  {
   "cell_type": "code",
   "execution_count": 44,
   "id": "0756451b",
   "metadata": {},
   "outputs": [
    {
     "data": {
      "text/html": [
       "<div>\n",
       "<style scoped>\n",
       "    .dataframe tbody tr th:only-of-type {\n",
       "        vertical-align: middle;\n",
       "    }\n",
       "\n",
       "    .dataframe tbody tr th {\n",
       "        vertical-align: top;\n",
       "    }\n",
       "\n",
       "    .dataframe thead th {\n",
       "        text-align: right;\n",
       "    }\n",
       "</style>\n",
       "<table border=\"1\" class=\"dataframe\">\n",
       "  <thead>\n",
       "    <tr style=\"text-align: right;\">\n",
       "      <th></th>\n",
       "      <th>Id</th>\n",
       "      <th>ActivityMinute</th>\n",
       "      <th>Calories</th>\n",
       "    </tr>\n",
       "  </thead>\n",
       "  <tbody>\n",
       "    <tr>\n",
       "      <th>0</th>\n",
       "      <td>1503960366</td>\n",
       "      <td>4/12/2016 12:00:00 AM</td>\n",
       "      <td>0.78650</td>\n",
       "    </tr>\n",
       "    <tr>\n",
       "      <th>1</th>\n",
       "      <td>1503960366</td>\n",
       "      <td>4/12/2016 12:01:00 AM</td>\n",
       "      <td>0.78650</td>\n",
       "    </tr>\n",
       "    <tr>\n",
       "      <th>2</th>\n",
       "      <td>1503960366</td>\n",
       "      <td>4/12/2016 12:02:00 AM</td>\n",
       "      <td>0.78650</td>\n",
       "    </tr>\n",
       "    <tr>\n",
       "      <th>3</th>\n",
       "      <td>1503960366</td>\n",
       "      <td>4/12/2016 12:03:00 AM</td>\n",
       "      <td>0.78650</td>\n",
       "    </tr>\n",
       "    <tr>\n",
       "      <th>4</th>\n",
       "      <td>1503960366</td>\n",
       "      <td>4/12/2016 12:04:00 AM</td>\n",
       "      <td>0.78650</td>\n",
       "    </tr>\n",
       "    <tr>\n",
       "      <th>...</th>\n",
       "      <td>...</td>\n",
       "      <td>...</td>\n",
       "      <td>...</td>\n",
       "    </tr>\n",
       "    <tr>\n",
       "      <th>1325575</th>\n",
       "      <td>8877689391</td>\n",
       "      <td>5/12/2016 1:55:00 PM</td>\n",
       "      <td>1.33353</td>\n",
       "    </tr>\n",
       "    <tr>\n",
       "      <th>1325576</th>\n",
       "      <td>8877689391</td>\n",
       "      <td>5/12/2016 1:56:00 PM</td>\n",
       "      <td>1.33353</td>\n",
       "    </tr>\n",
       "    <tr>\n",
       "      <th>1325577</th>\n",
       "      <td>8877689391</td>\n",
       "      <td>5/12/2016 1:57:00 PM</td>\n",
       "      <td>1.33353</td>\n",
       "    </tr>\n",
       "    <tr>\n",
       "      <th>1325578</th>\n",
       "      <td>8877689391</td>\n",
       "      <td>5/12/2016 1:58:00 PM</td>\n",
       "      <td>1.33353</td>\n",
       "    </tr>\n",
       "    <tr>\n",
       "      <th>1325579</th>\n",
       "      <td>8877689391</td>\n",
       "      <td>5/12/2016 1:59:00 PM</td>\n",
       "      <td>1.33353</td>\n",
       "    </tr>\n",
       "  </tbody>\n",
       "</table>\n",
       "<p>1325580 rows × 3 columns</p>\n",
       "</div>"
      ],
      "text/plain": [
       "                 Id         ActivityMinute  Calories\n",
       "0        1503960366  4/12/2016 12:00:00 AM   0.78650\n",
       "1        1503960366  4/12/2016 12:01:00 AM   0.78650\n",
       "2        1503960366  4/12/2016 12:02:00 AM   0.78650\n",
       "3        1503960366  4/12/2016 12:03:00 AM   0.78650\n",
       "4        1503960366  4/12/2016 12:04:00 AM   0.78650\n",
       "...             ...                    ...       ...\n",
       "1325575  8877689391   5/12/2016 1:55:00 PM   1.33353\n",
       "1325576  8877689391   5/12/2016 1:56:00 PM   1.33353\n",
       "1325577  8877689391   5/12/2016 1:57:00 PM   1.33353\n",
       "1325578  8877689391   5/12/2016 1:58:00 PM   1.33353\n",
       "1325579  8877689391   5/12/2016 1:59:00 PM   1.33353\n",
       "\n",
       "[1325580 rows x 3 columns]"
      ]
     },
     "execution_count": 44,
     "metadata": {},
     "output_type": "execute_result"
    }
   ],
   "source": [
    "m_calories"
   ]
  },
  {
   "cell_type": "code",
   "execution_count": 47,
   "id": "7bae8465",
   "metadata": {},
   "outputs": [
    {
     "name": "stdout",
     "output_type": "stream",
     "text": [
      "[[1.         0.95596063]\n",
      " [0.95596063 1.        ]]\n"
     ]
    }
   ],
   "source": [
    "minute_mets_calories_corr = np.corrcoef(m_mets['METs'], m_calories['Calories'])\n",
    "print(minute_mets_calories_corr)"
   ]
  },
  {
   "cell_type": "code",
   "execution_count": 56,
   "id": "6e2e1691",
   "metadata": {},
   "outputs": [
    {
     "name": "stdout",
     "output_type": "stream",
     "text": [
      "[[1.         0.83106106]\n",
      " [0.83106106 1.        ]]\n"
     ]
    }
   ],
   "source": [
    "minute_steps_calorreis_corr = np.corrcoef(m_steps['Steps'], m_calories['Calories'])\n",
    "print(minute_steps_calorreis_corr)"
   ]
  },
  {
   "cell_type": "code",
   "execution_count": null,
   "id": "9e3f46d1",
   "metadata": {},
   "outputs": [],
   "source": []
  }
 ],
 "metadata": {
  "kernelspec": {
   "display_name": "Python 3 (ipykernel)",
   "language": "python",
   "name": "python3"
  },
  "language_info": {
   "codemirror_mode": {
    "name": "ipython",
    "version": 3
   },
   "file_extension": ".py",
   "mimetype": "text/x-python",
   "name": "python",
   "nbconvert_exporter": "python",
   "pygments_lexer": "ipython3",
   "version": "3.9.12"
  }
 },
 "nbformat": 4,
 "nbformat_minor": 5
}
